version https://git-lfs.github.com/spec/v1
oid sha256:e96cddc65462443abaded803c2e49f5a144465934d58d1762ebb39a4bc87aad2
size 12655123
