version https://git-lfs.github.com/spec/v1
oid sha256:0ccaec112b15c3f502e7b3c6540d07548e8c1271e1443cc8d8ceb9f34ef382c3
size 17822561
